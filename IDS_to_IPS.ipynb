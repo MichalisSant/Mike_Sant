{
  "nbformat": 4,
  "nbformat_minor": 0,
  "metadata": {
    "colab": {
      "provenance": [],
      "authorship_tag": "ABX9TyOlxUMexfrRuGdSdz5/Oblw",
      "include_colab_link": true
    },
    "kernelspec": {
      "name": "python3",
      "display_name": "Python 3"
    },
    "language_info": {
      "name": "python"
    }
  },
  "cells": [
    {
      "cell_type": "markdown",
      "metadata": {
        "id": "view-in-github",
        "colab_type": "text"
      },
      "source": [
        "<a href=\"https://colab.research.google.com/github/MichalisSant/Mike_Sant/blob/main/IDS_to_IPS.ipynb\" target=\"_parent\"><img src=\"https://colab.research.google.com/assets/colab-badge.svg\" alt=\"Open In Colab\"/></a>"
      ]
    },
    {
      "cell_type": "code",
      "execution_count": null,
      "metadata": {
        "id": "lhKkxpfQiNI4"
      },
      "outputs": [],
      "source": [
        "# ===============================\n",
        "# IDS -> IPS με γραφήματα (Colab)\n",
        "# ===============================\n",
        "\n",
        "# Εγκατάσταση βιβλιοθηκών\n",
        "!pip install tensorflow scikit-learn pandas matplotlib\n",
        "\n",
        "# Εισαγωγή βιβλιοθηκών\n",
        "import numpy as np\n",
        "import pandas as pd\n",
        "from sklearn.model_selection import train_test_split\n",
        "from sklearn.preprocessing import StandardScaler\n",
        "from tensorflow.keras.models import Sequential\n",
        "from tensorflow.keras.layers import Dense, Dropout\n",
        "from sklearn.metrics import classification_report, accuracy_score\n",
        "import matplotlib.pyplot as plt\n",
        "\n"
      ]
    },
    {
      "cell_type": "code",
      "source": [
        "# -----------------------------------\n",
        "# Συνάρτηση φόρτωσης dataset\n",
        "# -----------------------------------\n",
        "def load_dataset(csv_file_path):\n",
        "    df = pd.read_csv(csv_file_path)\n",
        "    # Υποθέτουμε ότι η τελευταία στήλη είναι η ετικέτα (label)\n",
        "    X = df.iloc[:, :-1].values\n",
        "    y = df.iloc[:, -1].values\n",
        "    return X, y\n",
        "\n"
      ],
      "metadata": {
        "id": "dwYQBAVRilj9"
      },
      "execution_count": null,
      "outputs": []
    },
    {
      "cell_type": "code",
      "source": [
        "# -----------------------------------\n",
        "# Δημιουργία IDS μοντέλου (νευρωνικό δίκτυο)\n",
        "# -----------------------------------\n",
        "def create_and_train_model(input_dim):\n",
        "    model = Sequential()\n",
        "    model.add(Dense(256, input_dim=input_dim, activation='relu'))\n",
        "    model.add(Dropout(0.5))\n",
        "    model.add(Dense(128, activation='relu'))\n",
        "    model.add(Dropout(0.5))\n",
        "    model.add(Dense(64, activation='relu'))\n",
        "    model.add(Dense(3, activation='softmax'))  # 3 κατηγορίες: κανονικό, ύποπτο, κακόβουλο\n",
        "    model.compile(optimizer='adam', loss='sparse_categorical_crossentropy', metrics=['accuracy'])\n",
        "    return model\n",
        "\n"
      ],
      "metadata": {
        "id": "Xb6bSXxMipEh"
      },
      "execution_count": null,
      "outputs": []
    },
    {
      "cell_type": "code",
      "source": [
        "# -----------------------------------\n",
        "# IPS - Προληπτικές Ενέργειες\n",
        "# -----------------------------------\n",
        "def block_ip(ip_address):\n",
        "    print(f\"[IPS] Μπλοκάρισμα IP: {ip_address}\")\n",
        "\n",
        "def isolate_device(device_id):\n",
        "    print(f\"[IPS] Απομόνωση συσκευής με ID: {device_id}\")\n",
        "\n",
        "def alert_admin(message):\n",
        "    print(f\"[IPS] Ειδοποίηση Διαχειριστή: {message}\")\n",
        "\n"
      ],
      "metadata": {
        "id": "4z3IoLZeiwHx"
      },
      "execution_count": null,
      "outputs": []
    },
    {
      "cell_type": "code",
      "source": [
        "# -----------------------------------\n",
        "# Λογική IPS (αποφάσεις)\n",
        "# -----------------------------------\n",
        "def ips_response(y_pred, metadata=None):\n",
        "    for i, prediction in enumerate(y_pred):\n",
        "        if prediction == 1:  # ύποπτη κίνηση\n",
        "            alert_admin(\"Εντοπίστηκε ύποπτη δραστηριότητα\")\n",
        "        elif prediction == 2:  # κακόβουλη κίνηση\n",
        "            if metadata and \"ip\" in metadata[i]:\n",
        "                block_ip(metadata[i][\"ip\"])\n",
        "            if metadata and \"device_id\" in metadata[i]:\n",
        "                isolate_device(metadata[i][\"device_id\"])\n",
        "            alert_admin(\"Εντοπίστηκε κακόβουλη εισβολή – λήψη μέτρων!\")\n",
        "\n"
      ],
      "metadata": {
        "id": "KIi3OTgAi0T2"
      },
      "execution_count": null,
      "outputs": []
    },
    {
      "cell_type": "code",
      "source": [
        "# -----------------------------------\n",
        "# Προσομοίωση IPS με καταγραφή accuracy\n",
        "# -----------------------------------\n",
        "def simulate_streaming_with_ips(csv_file_path, model, scaler, batch_size=500, total_batches=2000, eval_every=200):\n",
        "    batch_counter = 0\n",
        "    train_accs, test_accs = [], []\n",
        "    checkpoints = []\n",
        "\n",
        "    # Φόρτωση δεδομένων για αξιολόγηση\n",
        "    X_all, y_all = load_dataset(csv_file_path)\n",
        "    X_all = scaler.transform(X_all)\n",
        "    X_train, X_test, y_train, y_test = train_test_split(X_all, y_all, test_size=0.2, random_state=42)\n",
        "\n",
        "    while batch_counter < total_batches:\n",
        "        # Δημιουργία μεταδεδομένων (IP + device_id)\n",
        "        metadata = [{\"ip\": f\"192.168.1.{i%255}\", \"device_id\": f\"dev{i%100}\"} for i in range(len(X_all))]\n",
        "\n",
        "        # Διαίρεση σε batches\n",
        "        for i in range(0, len(X_all), batch_size):\n",
        "            batch_counter += 1\n",
        "            X_batch = X_all[i:i + batch_size]\n",
        "            y_batch = y_all[i:i + batch_size]\n",
        "            meta_batch = metadata[i:i + batch_size]\n",
        "\n",
        "            # Εκπαίδευση IDS με το batch\n",
        "            model.train_on_batch(X_batch, y_batch)\n",
        "\n",
        "            # Πρόβλεψη και αντίδραση IPS\n",
        "            y_pred_probs = model.predict(X_batch, verbose=0)\n",
        "            y_pred = np.argmax(y_pred_probs, axis=1)\n",
        "            ips_response(y_pred, metadata=meta_batch)\n",
        "\n",
        "            # Περιοδική αξιολόγηση\n",
        "            if batch_counter % eval_every == 0:\n",
        "                y_train_pred = np.argmax(model.predict(X_train, verbose=0), axis=1)\n",
        "                y_test_pred = np.argmax(model.predict(X_test, verbose=0), axis=1)\n",
        "\n",
        "                train_acc = accuracy_score(y_train, y_train_pred)\n",
        "                test_acc = accuracy_score(y_test, y_test_pred)\n",
        "\n",
        "                train_accs.append(train_acc)\n",
        "                test_accs.append(test_acc)\n",
        "                checkpoints.append(batch_counter)\n",
        "\n",
        "                print(f\"[ΑΞΙΟΛΟΓΗΣΗ] Batch {batch_counter} -> Train Acc: {train_acc:.4f}, Test Acc: {test_acc:.4f}\")\n",
        "\n",
        "            if batch_counter >= total_batches:\n",
        "                break\n",
        "# Γράφημα accuracy\n",
        "    plt.figure(figsize=(8,5))\n",
        "    plt.plot(checkpoints, train_accs, label=\"Train Accuracy\")\n",
        "    plt.plot(checkpoints, test_accs, label=\"Test Accuracy\")\n",
        "    plt.xlabel(\"Batch number\")\n",
        "    plt.ylabel(\"Accuracy\")\n",
        "    plt.title(\"IPS - Εξέλιξη Ακρίβειας με το χρόνο\")\n",
        "    plt.legend()\n",
        "    plt.show()\n",
        "\n"
      ],
      "metadata": {
        "id": "WRJPwJIei5qq"
      },
      "execution_count": null,
      "outputs": []
    },
    {
      "cell_type": "code",
      "source": [
        "# -----------------------------------\n",
        "# Εκκίνηση παραδείγματος\n",
        "# -----------------------------------\n",
        "csv_file_path = 'https://raw.githubusercontent.com/kdemertzis/EKPA/main/Data/pcap_data.csv'\n",
        "\n",
        "# Φόρτωση και τυποποίηση δεδομένων\n",
        "X, y = load_dataset(csv_file_path)\n",
        "scaler = StandardScaler()\n",
        "X = scaler.fit_transform(X)\n",
        "\n",
        "# Χωρισμός σε training/test sets\n",
        "X_train, X_test, y_train, y_test = train_test_split(X, y, test_size=0.2, random_state=42)\n",
        "\n",
        "# Δημιουργία και αρχική εκπαίδευση IDS\n",
        "model = create_and_train_model(X_train.shape[1])\n",
        "model.fit(X_train, y_train, epochs=5, batch_size=64, validation_split=0.2)\n",
        "\n",
        "# Αξιολόγηση IDS πριν τη χρήση IPS\n",
        "y_pred = np.argmax(model.predict(X_test), axis=1)\n",
        "print(\"[Αρχική IDS Αξιολόγηση]\")\n",
        "print(classification_report(y_test, y_pred))\n",
        "\n",
        "# Εκκίνηση IPS προσομοίωσης με γραφήματα\n",
        "simulate_streaming_with_ips(csv_file_path, model, scaler)\n"
      ],
      "metadata": {
        "id": "XkC4JE4ai980"
      },
      "execution_count": null,
      "outputs": []
    }
  ]
}